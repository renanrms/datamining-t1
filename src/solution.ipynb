{
 "cells": [
  {
   "cell_type": "markdown",
   "id": "65b1951a",
   "metadata": {},
   "source": [
    "# Multi-Class Prediction of Obesity Risk\n"
   ]
  },
  {
   "cell_type": "markdown",
   "id": "1f1afcf3",
   "metadata": {},
   "source": [
    "## Processo de desenvolvimento do modelo\n"
   ]
  },
  {
   "cell_type": "markdown",
   "id": "313a3563",
   "metadata": {},
   "source": []
  },
  {
   "cell_type": "markdown",
   "id": "f8b0169e",
   "metadata": {},
   "source": [
    "## Preparação do ambiente e dos dados\n"
   ]
  },
  {
   "cell_type": "markdown",
   "id": "e5127034",
   "metadata": {},
   "source": [
    "### Imports e Configurações Gerais\n"
   ]
  },
  {
   "cell_type": "code",
   "execution_count": 73,
   "id": "171b4a4a",
   "metadata": {},
   "outputs": [],
   "source": [
    "import pandas as pd\n",
    "import seaborn as sns\n",
    "import matplotlib.pyplot as plt\n",
    "import numpy as np\n",
    "\n",
    "from sklearn.preprocessing import OrdinalEncoder, OneHotEncoder, LabelEncoder\n",
    "from sklearn.compose import ColumnTransformer\n",
    "from sklearn.ensemble import RandomForestClassifier\n",
    "from sklearn.pipeline import Pipeline\n",
    "from sklearn.model_selection import cross_validate, cross_val_predict, train_test_split\n",
    "from sklearn.metrics import (\n",
    "    make_scorer,\n",
    "    accuracy_score,\n",
    "    precision_score,\n",
    "    recall_score,\n",
    "    f1_score,\n",
    "    classification_report,\n",
    "    confusion_matrix,\n",
    ")\n",
    "\n",
    "from sklearn.ensemble import RandomForestClassifier\n",
    "from sklearn.tree import DecisionTreeClassifier\n",
    "from sklearn.svm import SVC\n",
    "from sklearn.naive_bayes import GaussianNB\n",
    "from sklearn.neighbors import KNeighborsClassifier\n",
    "\n",
    "%matplotlib inline\n",
    "\n",
    "# seaborn.set_theme()"
   ]
  },
  {
   "cell_type": "markdown",
   "id": "72c3d7d8",
   "metadata": {},
   "source": [
    "### Funções\n"
   ]
  },
  {
   "cell_type": "markdown",
   "id": "678440c6",
   "metadata": {},
   "source": [
    "#### show_stats ( )\n"
   ]
  },
  {
   "cell_type": "code",
   "execution_count": 2,
   "id": "2aee4652",
   "metadata": {},
   "outputs": [],
   "source": [
    "def show_stats(dataframe):\n",
    "    \"\"\"\n",
    "    Retorna dataframe contendo a contagem de valores inválidos (None, NaN, NaT) em cada coluna do dataframe passado como parâmetro.\n",
    "    \"\"\"\n",
    "\n",
    "    data_dict = {\n",
    "        c: [\n",
    "            dataframe.columns[c],\n",
    "            (dataframe.shape[0] - dataframe[dataframe.columns[c]].count()),\n",
    "            len(dataframe[dataframe.columns[c]].unique()),\n",
    "            dataframe[dataframe.columns[c]].dtype,\n",
    "        ]\n",
    "        for c in range(len(dataframe.columns))\n",
    "    }\n",
    "\n",
    "    return pd.DataFrame(\n",
    "        data=data_dict, index=[\"Nome\", \"Val. inválidos\", \"Val. únicos\", \"Tipo\"]\n",
    "    ).T"
   ]
  },
  {
   "cell_type": "markdown",
   "id": "0191d89a",
   "metadata": {},
   "source": [
    "### Carregamento dos Dados\n"
   ]
  },
  {
   "cell_type": "code",
   "execution_count": null,
   "id": "005db165",
   "metadata": {},
   "outputs": [],
   "source": [
    "train = pd.read_csv(\"../data/train.csv\")\n",
    "test = pd.read_csv(\"../data/test.csv\")"
   ]
  },
  {
   "cell_type": "markdown",
   "id": "bc84aa37",
   "metadata": {},
   "source": [
    "## Análise Exploratória\n"
   ]
  },
  {
   "cell_type": "markdown",
   "id": "6409c674",
   "metadata": {},
   "source": [
    "### Visão Geral\n"
   ]
  },
  {
   "cell_type": "markdown",
   "id": "ab7e148a",
   "metadata": {},
   "source": [
    "Os dados estão todos completos, sem valores faltantes ou evidentemente inválidos (ex: NaN) em nenhuma coluna.\n",
    "\n",
    "Há [Informações sobre o significado de cada coluna](https://www.kaggle.com/competitions/playground-series-s4e2/discussion/472516) em comentário no Kaggle.\n"
   ]
  },
  {
   "cell_type": "code",
   "execution_count": 4,
   "id": "e9115e3e",
   "metadata": {},
   "outputs": [
    {
     "data": {
      "text/html": [
       "<div>\n",
       "<style scoped>\n",
       "    .dataframe tbody tr th:only-of-type {\n",
       "        vertical-align: middle;\n",
       "    }\n",
       "\n",
       "    .dataframe tbody tr th {\n",
       "        vertical-align: top;\n",
       "    }\n",
       "\n",
       "    .dataframe thead th {\n",
       "        text-align: right;\n",
       "    }\n",
       "</style>\n",
       "<table border=\"1\" class=\"dataframe\">\n",
       "  <thead>\n",
       "    <tr style=\"text-align: right;\">\n",
       "      <th></th>\n",
       "      <th>id</th>\n",
       "      <th>Gender</th>\n",
       "      <th>Age</th>\n",
       "      <th>Height</th>\n",
       "      <th>Weight</th>\n",
       "      <th>family_history_with_overweight</th>\n",
       "      <th>FAVC</th>\n",
       "      <th>FCVC</th>\n",
       "      <th>NCP</th>\n",
       "      <th>CAEC</th>\n",
       "      <th>SMOKE</th>\n",
       "      <th>CH2O</th>\n",
       "      <th>SCC</th>\n",
       "      <th>FAF</th>\n",
       "      <th>TUE</th>\n",
       "      <th>CALC</th>\n",
       "      <th>MTRANS</th>\n",
       "      <th>NObeyesdad</th>\n",
       "    </tr>\n",
       "  </thead>\n",
       "  <tbody>\n",
       "    <tr>\n",
       "      <th>0</th>\n",
       "      <td>0</td>\n",
       "      <td>Male</td>\n",
       "      <td>24.443011</td>\n",
       "      <td>1.699998</td>\n",
       "      <td>81.669950</td>\n",
       "      <td>yes</td>\n",
       "      <td>yes</td>\n",
       "      <td>2.000000</td>\n",
       "      <td>2.983297</td>\n",
       "      <td>Sometimes</td>\n",
       "      <td>no</td>\n",
       "      <td>2.763573</td>\n",
       "      <td>no</td>\n",
       "      <td>0.000000</td>\n",
       "      <td>0.976473</td>\n",
       "      <td>Sometimes</td>\n",
       "      <td>Public_Transportation</td>\n",
       "      <td>Overweight_Level_II</td>\n",
       "    </tr>\n",
       "    <tr>\n",
       "      <th>1</th>\n",
       "      <td>1</td>\n",
       "      <td>Female</td>\n",
       "      <td>18.000000</td>\n",
       "      <td>1.560000</td>\n",
       "      <td>57.000000</td>\n",
       "      <td>yes</td>\n",
       "      <td>yes</td>\n",
       "      <td>2.000000</td>\n",
       "      <td>3.000000</td>\n",
       "      <td>Frequently</td>\n",
       "      <td>no</td>\n",
       "      <td>2.000000</td>\n",
       "      <td>no</td>\n",
       "      <td>1.000000</td>\n",
       "      <td>1.000000</td>\n",
       "      <td>no</td>\n",
       "      <td>Automobile</td>\n",
       "      <td>Normal_Weight</td>\n",
       "    </tr>\n",
       "    <tr>\n",
       "      <th>2</th>\n",
       "      <td>2</td>\n",
       "      <td>Female</td>\n",
       "      <td>18.000000</td>\n",
       "      <td>1.711460</td>\n",
       "      <td>50.165754</td>\n",
       "      <td>yes</td>\n",
       "      <td>yes</td>\n",
       "      <td>1.880534</td>\n",
       "      <td>1.411685</td>\n",
       "      <td>Sometimes</td>\n",
       "      <td>no</td>\n",
       "      <td>1.910378</td>\n",
       "      <td>no</td>\n",
       "      <td>0.866045</td>\n",
       "      <td>1.673584</td>\n",
       "      <td>no</td>\n",
       "      <td>Public_Transportation</td>\n",
       "      <td>Insufficient_Weight</td>\n",
       "    </tr>\n",
       "    <tr>\n",
       "      <th>3</th>\n",
       "      <td>3</td>\n",
       "      <td>Female</td>\n",
       "      <td>20.952737</td>\n",
       "      <td>1.710730</td>\n",
       "      <td>131.274851</td>\n",
       "      <td>yes</td>\n",
       "      <td>yes</td>\n",
       "      <td>3.000000</td>\n",
       "      <td>3.000000</td>\n",
       "      <td>Sometimes</td>\n",
       "      <td>no</td>\n",
       "      <td>1.674061</td>\n",
       "      <td>no</td>\n",
       "      <td>1.467863</td>\n",
       "      <td>0.780199</td>\n",
       "      <td>Sometimes</td>\n",
       "      <td>Public_Transportation</td>\n",
       "      <td>Obesity_Type_III</td>\n",
       "    </tr>\n",
       "    <tr>\n",
       "      <th>4</th>\n",
       "      <td>4</td>\n",
       "      <td>Male</td>\n",
       "      <td>31.641081</td>\n",
       "      <td>1.914186</td>\n",
       "      <td>93.798055</td>\n",
       "      <td>yes</td>\n",
       "      <td>yes</td>\n",
       "      <td>2.679664</td>\n",
       "      <td>1.971472</td>\n",
       "      <td>Sometimes</td>\n",
       "      <td>no</td>\n",
       "      <td>1.979848</td>\n",
       "      <td>no</td>\n",
       "      <td>1.967973</td>\n",
       "      <td>0.931721</td>\n",
       "      <td>Sometimes</td>\n",
       "      <td>Public_Transportation</td>\n",
       "      <td>Overweight_Level_II</td>\n",
       "    </tr>\n",
       "  </tbody>\n",
       "</table>\n",
       "</div>"
      ],
      "text/plain": [
       "   id  Gender        Age    Height      Weight family_history_with_overweight  \\\n",
       "0   0    Male  24.443011  1.699998   81.669950                            yes   \n",
       "1   1  Female  18.000000  1.560000   57.000000                            yes   \n",
       "2   2  Female  18.000000  1.711460   50.165754                            yes   \n",
       "3   3  Female  20.952737  1.710730  131.274851                            yes   \n",
       "4   4    Male  31.641081  1.914186   93.798055                            yes   \n",
       "\n",
       "  FAVC      FCVC       NCP        CAEC SMOKE      CH2O SCC       FAF  \\\n",
       "0  yes  2.000000  2.983297   Sometimes    no  2.763573  no  0.000000   \n",
       "1  yes  2.000000  3.000000  Frequently    no  2.000000  no  1.000000   \n",
       "2  yes  1.880534  1.411685   Sometimes    no  1.910378  no  0.866045   \n",
       "3  yes  3.000000  3.000000   Sometimes    no  1.674061  no  1.467863   \n",
       "4  yes  2.679664  1.971472   Sometimes    no  1.979848  no  1.967973   \n",
       "\n",
       "        TUE       CALC                 MTRANS           NObeyesdad  \n",
       "0  0.976473  Sometimes  Public_Transportation  Overweight_Level_II  \n",
       "1  1.000000         no             Automobile        Normal_Weight  \n",
       "2  1.673584         no  Public_Transportation  Insufficient_Weight  \n",
       "3  0.780199  Sometimes  Public_Transportation     Obesity_Type_III  \n",
       "4  0.931721  Sometimes  Public_Transportation  Overweight_Level_II  "
      ]
     },
     "execution_count": 4,
     "metadata": {},
     "output_type": "execute_result"
    }
   ],
   "source": [
    "train.head()"
   ]
  },
  {
   "cell_type": "code",
   "execution_count": 5,
   "id": "be24e9c8",
   "metadata": {},
   "outputs": [
    {
     "data": {
      "text/html": [
       "<div>\n",
       "<style scoped>\n",
       "    .dataframe tbody tr th:only-of-type {\n",
       "        vertical-align: middle;\n",
       "    }\n",
       "\n",
       "    .dataframe tbody tr th {\n",
       "        vertical-align: top;\n",
       "    }\n",
       "\n",
       "    .dataframe thead th {\n",
       "        text-align: right;\n",
       "    }\n",
       "</style>\n",
       "<table border=\"1\" class=\"dataframe\">\n",
       "  <thead>\n",
       "    <tr style=\"text-align: right;\">\n",
       "      <th></th>\n",
       "      <th>Nome</th>\n",
       "      <th>Val. inválidos</th>\n",
       "      <th>Val. únicos</th>\n",
       "      <th>Tipo</th>\n",
       "    </tr>\n",
       "  </thead>\n",
       "  <tbody>\n",
       "    <tr>\n",
       "      <th>0</th>\n",
       "      <td>id</td>\n",
       "      <td>0</td>\n",
       "      <td>20758</td>\n",
       "      <td>int64</td>\n",
       "    </tr>\n",
       "    <tr>\n",
       "      <th>1</th>\n",
       "      <td>Gender</td>\n",
       "      <td>0</td>\n",
       "      <td>2</td>\n",
       "      <td>object</td>\n",
       "    </tr>\n",
       "    <tr>\n",
       "      <th>2</th>\n",
       "      <td>Age</td>\n",
       "      <td>0</td>\n",
       "      <td>1703</td>\n",
       "      <td>float64</td>\n",
       "    </tr>\n",
       "    <tr>\n",
       "      <th>3</th>\n",
       "      <td>Height</td>\n",
       "      <td>0</td>\n",
       "      <td>1833</td>\n",
       "      <td>float64</td>\n",
       "    </tr>\n",
       "    <tr>\n",
       "      <th>4</th>\n",
       "      <td>Weight</td>\n",
       "      <td>0</td>\n",
       "      <td>1979</td>\n",
       "      <td>float64</td>\n",
       "    </tr>\n",
       "    <tr>\n",
       "      <th>5</th>\n",
       "      <td>family_history_with_overweight</td>\n",
       "      <td>0</td>\n",
       "      <td>2</td>\n",
       "      <td>object</td>\n",
       "    </tr>\n",
       "    <tr>\n",
       "      <th>6</th>\n",
       "      <td>FAVC</td>\n",
       "      <td>0</td>\n",
       "      <td>2</td>\n",
       "      <td>object</td>\n",
       "    </tr>\n",
       "    <tr>\n",
       "      <th>7</th>\n",
       "      <td>FCVC</td>\n",
       "      <td>0</td>\n",
       "      <td>934</td>\n",
       "      <td>float64</td>\n",
       "    </tr>\n",
       "    <tr>\n",
       "      <th>8</th>\n",
       "      <td>NCP</td>\n",
       "      <td>0</td>\n",
       "      <td>689</td>\n",
       "      <td>float64</td>\n",
       "    </tr>\n",
       "    <tr>\n",
       "      <th>9</th>\n",
       "      <td>CAEC</td>\n",
       "      <td>0</td>\n",
       "      <td>4</td>\n",
       "      <td>object</td>\n",
       "    </tr>\n",
       "    <tr>\n",
       "      <th>10</th>\n",
       "      <td>SMOKE</td>\n",
       "      <td>0</td>\n",
       "      <td>2</td>\n",
       "      <td>object</td>\n",
       "    </tr>\n",
       "    <tr>\n",
       "      <th>11</th>\n",
       "      <td>CH2O</td>\n",
       "      <td>0</td>\n",
       "      <td>1506</td>\n",
       "      <td>float64</td>\n",
       "    </tr>\n",
       "    <tr>\n",
       "      <th>12</th>\n",
       "      <td>SCC</td>\n",
       "      <td>0</td>\n",
       "      <td>2</td>\n",
       "      <td>object</td>\n",
       "    </tr>\n",
       "    <tr>\n",
       "      <th>13</th>\n",
       "      <td>FAF</td>\n",
       "      <td>0</td>\n",
       "      <td>1360</td>\n",
       "      <td>float64</td>\n",
       "    </tr>\n",
       "    <tr>\n",
       "      <th>14</th>\n",
       "      <td>TUE</td>\n",
       "      <td>0</td>\n",
       "      <td>1297</td>\n",
       "      <td>float64</td>\n",
       "    </tr>\n",
       "    <tr>\n",
       "      <th>15</th>\n",
       "      <td>CALC</td>\n",
       "      <td>0</td>\n",
       "      <td>3</td>\n",
       "      <td>object</td>\n",
       "    </tr>\n",
       "    <tr>\n",
       "      <th>16</th>\n",
       "      <td>MTRANS</td>\n",
       "      <td>0</td>\n",
       "      <td>5</td>\n",
       "      <td>object</td>\n",
       "    </tr>\n",
       "    <tr>\n",
       "      <th>17</th>\n",
       "      <td>NObeyesdad</td>\n",
       "      <td>0</td>\n",
       "      <td>7</td>\n",
       "      <td>object</td>\n",
       "    </tr>\n",
       "  </tbody>\n",
       "</table>\n",
       "</div>"
      ],
      "text/plain": [
       "                              Nome Val. inválidos Val. únicos     Tipo\n",
       "0                               id              0       20758    int64\n",
       "1                           Gender              0           2   object\n",
       "2                              Age              0        1703  float64\n",
       "3                           Height              0        1833  float64\n",
       "4                           Weight              0        1979  float64\n",
       "5   family_history_with_overweight              0           2   object\n",
       "6                             FAVC              0           2   object\n",
       "7                             FCVC              0         934  float64\n",
       "8                              NCP              0         689  float64\n",
       "9                             CAEC              0           4   object\n",
       "10                           SMOKE              0           2   object\n",
       "11                            CH2O              0        1506  float64\n",
       "12                             SCC              0           2   object\n",
       "13                             FAF              0        1360  float64\n",
       "14                             TUE              0        1297  float64\n",
       "15                            CALC              0           3   object\n",
       "16                          MTRANS              0           5   object\n",
       "17                      NObeyesdad              0           7   object"
      ]
     },
     "execution_count": 5,
     "metadata": {},
     "output_type": "execute_result"
    }
   ],
   "source": [
    "show_stats(train)"
   ]
  },
  {
   "cell_type": "code",
   "execution_count": null,
   "id": "9d9b9d28",
   "metadata": {},
   "outputs": [],
   "source": [
    "binary_columns = [\"Gender\", \"family_history_with_overweight\", \"FAVC\", \"SMOKE\", \"SCC\"]\n",
    "categorical_columns = [\"CAEC\", \"CALC\", \"MTRANS\", \"NObeyesdad\"]\n",
    "numerical_columns = [\"Age\", \"Height\", \"Weight\", \"FCVC\", \"NCP\", \"CH2O\", \"FAF\", \"TUE\"]"
   ]
  },
  {
   "cell_type": "markdown",
   "id": "5c051a0c",
   "metadata": {},
   "source": [
    "### Atributos categóricos\n"
   ]
  },
  {
   "cell_type": "markdown",
   "id": "301354d8",
   "metadata": {},
   "source": [
    "#### Gender\n"
   ]
  },
  {
   "cell_type": "markdown",
   "id": "5c9f0516",
   "metadata": {},
   "source": [
    "Pela característica do atributo (não ter uma ordem), certamente vamos utilizar o One Hot Encoding. Que neste caso será como um atributo binário porque por conta da opção drop=\"First\" que será usada.\n"
   ]
  },
  {
   "cell_type": "code",
   "execution_count": 7,
   "id": "22302e39",
   "metadata": {},
   "outputs": [
    {
     "name": "stdout",
     "output_type": "stream",
     "text": [
      "['Male' 'Female']\n",
      "['Male' 'Female']\n"
     ]
    }
   ],
   "source": [
    "print(train.Gender.unique())\n",
    "print(test.Gender.unique())"
   ]
  },
  {
   "cell_type": "code",
   "execution_count": null,
   "id": "c3ab47bb",
   "metadata": {},
   "outputs": [],
   "source": [
    "gender_options = [\"Male\", \"Female\"]"
   ]
  },
  {
   "cell_type": "markdown",
   "id": "526524e9",
   "metadata": {},
   "source": [
    "#### CALC\n"
   ]
  },
  {
   "cell_type": "markdown",
   "id": "5a162d46",
   "metadata": {},
   "source": [
    "Para este atributo há uma ordem muito clara entre as classes, de maneira que podemos fazer ordinal encoding, mas também podemos fazer one hot encoding, que possui a vantagem de não atribuir uma escala às classes. Mas ambos os métodos podem ser testados.\n"
   ]
  },
  {
   "cell_type": "code",
   "execution_count": 9,
   "id": "ff5e6215",
   "metadata": {},
   "outputs": [
    {
     "name": "stdout",
     "output_type": "stream",
     "text": [
      "['Sometimes' 'no' 'Frequently']\n",
      "['Sometimes' 'no' 'Frequently' 'Always']\n"
     ]
    }
   ],
   "source": [
    "print(train.CALC.unique())\n",
    "print(test.CALC.unique())"
   ]
  },
  {
   "cell_type": "code",
   "execution_count": null,
   "id": "43e2c645",
   "metadata": {},
   "outputs": [],
   "source": [
    "CALC_options = [\"no\", \"Sometimes\", \"Frequently\", \"Always\"]"
   ]
  },
  {
   "cell_type": "markdown",
   "id": "06d6ef4f",
   "metadata": {},
   "source": [
    "#### MTRANS\n"
   ]
  },
  {
   "cell_type": "markdown",
   "id": "3a2b8986",
   "metadata": {},
   "source": [
    "Neste atributo podemos proceder de duas maneiras principais:\n",
    "\n",
    "- Utilizar One Hot Encoding. Escolha que considero mais certeira por não atribuir ordem ou escala.\n",
    "- Definir uma ordem e utilizar ordinal encoding. Neste caso podemos olhar o comportamento do atributo em relação ao target para validar a ordem escolhida para cada classe.\n"
   ]
  },
  {
   "cell_type": "code",
   "execution_count": 11,
   "id": "cc55b664",
   "metadata": {},
   "outputs": [
    {
     "name": "stdout",
     "output_type": "stream",
     "text": [
      "['Public_Transportation' 'Automobile' 'Walking' 'Motorbike' 'Bike']\n",
      "['Public_Transportation' 'Automobile' 'Walking' 'Bike' 'Motorbike']\n"
     ]
    }
   ],
   "source": [
    "print(train.MTRANS.unique())\n",
    "print(test.MTRANS.unique())"
   ]
  },
  {
   "cell_type": "code",
   "execution_count": null,
   "id": "9a4f2e5c",
   "metadata": {},
   "outputs": [],
   "source": [
    "MTRANS_options = [\"Walking\", \"Public_Transportation\", \"Bike\", \"Motorbike\", \"Automobile\"]"
   ]
  },
  {
   "cell_type": "markdown",
   "id": "5df04819",
   "metadata": {},
   "source": [
    "#### NObeyesdad (Target)\n"
   ]
  },
  {
   "cell_type": "markdown",
   "id": "47181362",
   "metadata": {},
   "source": [
    "Para este atributo será feito ordinal encoding, porque há uma ordem clara entre as classes e este é o target, portanto está é a técnica mais usual para que a saída do algoritmo possa ser numérica.\n"
   ]
  },
  {
   "cell_type": "code",
   "execution_count": 13,
   "id": "49e491b8",
   "metadata": {},
   "outputs": [
    {
     "name": "stdout",
     "output_type": "stream",
     "text": [
      "['Overweight_Level_II' 'Normal_Weight' 'Insufficient_Weight'\n",
      " 'Obesity_Type_III' 'Obesity_Type_II' 'Overweight_Level_I'\n",
      " 'Obesity_Type_I']\n"
     ]
    }
   ],
   "source": [
    "print(train.NObeyesdad.unique())"
   ]
  },
  {
   "cell_type": "code",
   "execution_count": null,
   "id": "8810d473",
   "metadata": {},
   "outputs": [],
   "source": [
    "target_order = [\n",
    "    \"Insufficient_Weight\",\n",
    "    \"Normal_Weight\",\n",
    "    \"Overweight_Level_I\",\n",
    "    \"Overweight_Level_II\",\n",
    "    \"Obesity_Type_I\",\n",
    "    \"Obesity_Type_II\",\n",
    "    \"Obesity_Type_III\",\n",
    "]"
   ]
  },
  {
   "cell_type": "markdown",
   "id": "6f9033f9",
   "metadata": {},
   "source": [
    "### Matriz de dispersão\n"
   ]
  },
  {
   "cell_type": "code",
   "execution_count": null,
   "id": "b35120f5",
   "metadata": {},
   "outputs": [],
   "source": [
    "sns.set_theme(style=\"ticks\")\n",
    "# plot = sns.pairplot(train.sample(1000), plot_kws={'alpha':0.1})\n",
    "# plot = sns.pairplot(train, plot_kw  s={'alpha':0.05})"
   ]
  },
  {
   "cell_type": "markdown",
   "id": "cfcac2df",
   "metadata": {},
   "source": [
    "## Construção do modelo"
   ]
  },
  {
   "cell_type": "markdown",
   "id": "0ad2d2bc",
   "metadata": {},
   "source": [
    "### Separação das Labels\n"
   ]
  },
  {
   "cell_type": "code",
   "execution_count": 16,
   "id": "00bac945",
   "metadata": {},
   "outputs": [],
   "source": [
    "target_encoder = OrdinalEncoder(categories=[target_order], dtype=int)\n",
    "\n",
    "train[\"NObeyesdad_encoded\"] = target_encoder.fit_transform(\n",
    "    train[[\"NObeyesdad\"]]\n",
    ").flatten()\n",
    "\n",
    "features = train.drop([\"NObeyesdad\", \"NObeyesdad_encoded\"], axis=1)\n",
    "target = train[\"NObeyesdad_encoded\"]"
   ]
  },
  {
   "cell_type": "markdown",
   "id": "ecc0504c",
   "metadata": {},
   "source": [
    "### Definição do modelo"
   ]
  },
  {
   "cell_type": "code",
   "execution_count": null,
   "id": "393868e7",
   "metadata": {},
   "outputs": [],
   "source": [
    "preprocessor = ColumnTransformer(\n",
    "    transformers=[\n",
    "        (\n",
    "            \"numerical\",\n",
    "            \"passthrough\",\n",
    "            numerical_columns,\n",
    "        ),\n",
    "        (\n",
    "            \"Gender\",\n",
    "            OneHotEncoder(\n",
    "                categories=[gender_options], drop=\"first\", sparse_output=False\n",
    "            ),\n",
    "            [\"Gender\"],\n",
    "        ),\n",
    "        (\n",
    "            \"CALC\",\n",
    "            OneHotEncoder(categories=[CALC_options], drop=\"first\", sparse_output=False),\n",
    "            [\"CALC\"],\n",
    "        ),\n",
    "        # ('CALC', OrdinalEncoder(categories=[CALC_options], dtype=int), ['CALC']),\n",
    "        (\n",
    "            \"MTRANS\",\n",
    "            OneHotEncoder(\n",
    "                categories=[MTRANS_options], drop=\"first\", sparse_output=False\n",
    "            ),\n",
    "            [\"MTRANS\"],\n",
    "        ),\n",
    "    ]\n",
    ")\n",
    "\n",
    "model = Pipeline(\n",
    "    steps=[(\"preprocessor\", preprocessor), (\"model\", RandomForestClassifier())]\n",
    ")\n"
   ]
  },
  {
   "cell_type": "markdown",
   "id": "fc407b75",
   "metadata": {},
   "source": [
    "### Visualização detalhada do desempenho de um modelo (Playgroung)"
   ]
  },
  {
   "cell_type": "markdown",
   "id": "ba988b2e",
   "metadata": {},
   "source": [
    "#### Treino e teste (Substituída pela validação cruzada)\n"
   ]
  },
  {
   "cell_type": "markdown",
   "id": "d381485c",
   "metadata": {},
   "source": [
    "Esta seção foi mantida apenas para mostrar o progresso de desenvolvimento, mas todo o relatório de classificação feito aqui, foi refeito (e aprimorado) com validação cruzada, que dá mais confiabilidade a todas as métricas por calculá-las sobre todo o conjunto de dados."
   ]
  },
  {
   "cell_type": "code",
   "execution_count": 70,
   "id": "6f414712",
   "metadata": {},
   "outputs": [
    {
     "name": "stdout",
     "output_type": "stream",
     "text": [
      "\n",
      "Acurácia do modelo: 0.885\n",
      "\n",
      "Relatório de Classificação:\n",
      "                     precision    recall  f1-score   support\n",
      "\n",
      "Insufficient_Weight       0.93      0.92      0.93       524\n",
      "      Normal_Weight       0.84      0.87      0.86       626\n",
      " Overweight_Level_I       0.74      0.71      0.73       484\n",
      "Overweight_Level_II       0.75      0.77      0.76       514\n",
      "     Obesity_Type_I       0.88      0.86      0.87       543\n",
      "    Obesity_Type_II       0.98      0.97      0.97       657\n",
      "   Obesity_Type_III       1.00      1.00      1.00       804\n",
      "\n",
      "           accuracy                           0.89      4152\n",
      "          macro avg       0.87      0.87      0.87      4152\n",
      "       weighted avg       0.89      0.89      0.89      4152\n",
      "\n"
     ]
    }
   ],
   "source": [
    "X_train, X_test, y_train, y_test = train_test_split(\n",
    "    features, target, test_size=0.2, random_state=42\n",
    ")\n",
    "\n",
    "model.fit(X_train, y_train)\n",
    "\n",
    "\n",
    "y_pred = model.predict(X_test)\n",
    "\n",
    "accuracy = accuracy_score(y_test, y_pred)\n",
    "print(f\"\\nAcurácia do modelo: {accuracy:.3f}\")\n",
    "\n",
    "print(\"\\nRelatório de Classificação:\")\n",
    "print(\n",
    "    classification_report(\n",
    "        y_test,\n",
    "        y_pred,\n",
    "        target_names=target_order,\n",
    "    )\n",
    ")"
   ]
  },
  {
   "cell_type": "markdown",
   "id": "847f2292",
   "metadata": {},
   "source": [
    "#### Relatório de classificação detalhado "
   ]
  },
  {
   "cell_type": "markdown",
   "id": "2229482d",
   "metadata": {},
   "source": [
    "Vamos obter predições para todo o conjunto de treino através de validação cruzada."
   ]
  },
  {
   "cell_type": "code",
   "execution_count": null,
   "id": "13734b7a",
   "metadata": {},
   "outputs": [],
   "source": [
    "y_pred_cv = cross_val_predict(\n",
    "    model,\n",
    "    features,\n",
    "    target,\n",
    "    cv=5,\n",
    "    method=\"predict\",\n",
    ")"
   ]
  },
  {
   "cell_type": "markdown",
   "id": "04cefc80",
   "metadata": {},
   "source": [
    "A seguir vemos um relatório geral de classificação para o modelo escolhido, que apresenta métricas de desempenho gerais e para cada uma das classes do atributo que queremos estimar."
   ]
  },
  {
   "cell_type": "code",
   "execution_count": 79,
   "id": "8ee1d823",
   "metadata": {},
   "outputs": [
    {
     "name": "stdout",
     "output_type": "stream",
     "text": [
      "\n",
      "Acurácia do modelo: 0.891\n",
      "\n",
      "Relatório de Classificação:\n",
      "                     precision    recall  f1-score   support\n",
      "\n",
      "Insufficient_Weight       0.92      0.92      0.92      2523\n",
      "      Normal_Weight       0.85      0.88      0.86      3082\n",
      " Overweight_Level_I       0.76      0.71      0.74      2427\n",
      "Overweight_Level_II       0.77      0.78      0.77      2522\n",
      "     Obesity_Type_I       0.89      0.88      0.88      2910\n",
      "    Obesity_Type_II       0.97      0.97      0.97      3248\n",
      "   Obesity_Type_III       1.00      1.00      1.00      4046\n",
      "\n",
      "           accuracy                           0.89     20758\n",
      "          macro avg       0.88      0.88      0.88     20758\n",
      "       weighted avg       0.89      0.89      0.89     20758\n",
      "\n"
     ]
    }
   ],
   "source": [
    "print(f\"\\nAcurácia do modelo: {accuracy_score(target, y_pred_cv):.3f}\")\n",
    "print(\"\\nRelatório de Classificação:\")\n",
    "print(classification_report(target, y_pred_cv, target_names=target_order))"
   ]
  },
  {
   "cell_type": "markdown",
   "id": "fecaa5fb",
   "metadata": {},
   "source": [
    "Para detalhar mais o comportamento que o modelo segue em cada uma das classes, a seguir apresentamos a matriz de confusão."
   ]
  },
  {
   "cell_type": "code",
   "execution_count": null,
   "id": "1e7e9494",
   "metadata": {},
   "outputs": [
    {
     "data": {
      "image/png": "[encoded data removed]",
      "text/plain": [
       "<Figure size 640x480 with 2 Axes>"
      ]
     },
     "metadata": {},
     "output_type": "display_data"
    }
   ],
   "source": [
    "sns.heatmap(\n",
    "    confusion_matrix(target, y_pred_cv),\n",
    "    annot=True,\n",
    "    fmt=\"d\",\n",
    "    xticklabels=target_order,\n",
    "    yticklabels=target_order,\n",
    ");"
   ]
  },
  {
   "cell_type": "markdown",
   "id": "3cd22596",
   "metadata": {},
   "source": [
    "#### Comparação entre desempenho de treino e teste"
   ]
  },
  {
   "cell_type": "code",
   "execution_count": 87,
   "id": "b32045c2",
   "metadata": {},
   "outputs": [],
   "source": [
    "scoring = {\n",
    "    \"accuracy\": make_scorer(accuracy_score),\n",
    "    \"precision_macro\": make_scorer(precision_score, average=\"macro\"),\n",
    "    \"recall_macro\": make_scorer(recall_score, average=\"macro\"),\n",
    "    \"f1_macro\": make_scorer(f1_score, average=\"macro\"),\n",
    "}\n",
    "\n",
    "cv_results = cross_validate(\n",
    "    model,\n",
    "    features,\n",
    "    target,\n",
    "    cv=5,\n",
    "    # cv = StratifiedKFold(n_splits=5, shuffle=True, random_state=42),\n",
    "    scoring=scoring,\n",
    "    return_train_score=True,\n",
    ")\n"
   ]
  },
  {
   "cell_type": "code",
   "execution_count": 99,
   "id": "867edcbf",
   "metadata": {},
   "outputs": [
    {
     "name": "stdout",
     "output_type": "stream",
     "text": [
      "\n",
      "Métricas por Fold, com Média e Desvio Padrão:\n"
     ]
    },
    {
     "data": {
      "text/html": [
       "<div>\n",
       "<style scoped>\n",
       "    .dataframe tbody tr th:only-of-type {\n",
       "        vertical-align: middle;\n",
       "    }\n",
       "\n",
       "    .dataframe tbody tr th {\n",
       "        vertical-align: top;\n",
       "    }\n",
       "\n",
       "    .dataframe thead th {\n",
       "        text-align: right;\n",
       "    }\n",
       "</style>\n",
       "<table border=\"1\" class=\"dataframe\">\n",
       "  <thead>\n",
       "    <tr style=\"text-align: right;\">\n",
       "      <th></th>\n",
       "      <th>Acurácia (Treino)</th>\n",
       "      <th>Acurácia (Teste)</th>\n",
       "      <th>Precisão (Treino)</th>\n",
       "      <th>Precisão (Teste)</th>\n",
       "      <th>Recall (Treino)</th>\n",
       "      <th>Recall (Teste)</th>\n",
       "      <th>F1-Score (Treino)</th>\n",
       "      <th>F1-Score (Teste)</th>\n",
       "    </tr>\n",
       "  </thead>\n",
       "  <tbody>\n",
       "    <tr>\n",
       "      <th>0</th>\n",
       "      <td>0.998</td>\n",
       "      <td>0.887</td>\n",
       "      <td>0.998</td>\n",
       "      <td>0.876</td>\n",
       "      <td>0.998</td>\n",
       "      <td>0.874</td>\n",
       "      <td>0.998</td>\n",
       "      <td>0.875</td>\n",
       "    </tr>\n",
       "    <tr>\n",
       "      <th>1</th>\n",
       "      <td>0.998</td>\n",
       "      <td>0.883</td>\n",
       "      <td>0.998</td>\n",
       "      <td>0.871</td>\n",
       "      <td>0.998</td>\n",
       "      <td>0.869</td>\n",
       "      <td>0.998</td>\n",
       "      <td>0.869</td>\n",
       "    </tr>\n",
       "    <tr>\n",
       "      <th>2</th>\n",
       "      <td>0.998</td>\n",
       "      <td>0.902</td>\n",
       "      <td>0.998</td>\n",
       "      <td>0.892</td>\n",
       "      <td>0.998</td>\n",
       "      <td>0.892</td>\n",
       "      <td>0.998</td>\n",
       "      <td>0.892</td>\n",
       "    </tr>\n",
       "    <tr>\n",
       "      <th>3</th>\n",
       "      <td>0.998</td>\n",
       "      <td>0.895</td>\n",
       "      <td>0.998</td>\n",
       "      <td>0.884</td>\n",
       "      <td>0.998</td>\n",
       "      <td>0.882</td>\n",
       "      <td>0.998</td>\n",
       "      <td>0.883</td>\n",
       "    </tr>\n",
       "    <tr>\n",
       "      <th>4</th>\n",
       "      <td>0.998</td>\n",
       "      <td>0.890</td>\n",
       "      <td>0.998</td>\n",
       "      <td>0.878</td>\n",
       "      <td>0.998</td>\n",
       "      <td>0.877</td>\n",
       "      <td>0.998</td>\n",
       "      <td>0.877</td>\n",
       "    </tr>\n",
       "    <tr>\n",
       "      <th>Média</th>\n",
       "      <td>0.998</td>\n",
       "      <td>0.891</td>\n",
       "      <td>0.998</td>\n",
       "      <td>0.880</td>\n",
       "      <td>0.998</td>\n",
       "      <td>0.879</td>\n",
       "      <td>0.998</td>\n",
       "      <td>0.879</td>\n",
       "    </tr>\n",
       "    <tr>\n",
       "      <th>Desvio Padrão</th>\n",
       "      <td>0.000</td>\n",
       "      <td>0.007</td>\n",
       "      <td>0.000</td>\n",
       "      <td>0.007</td>\n",
       "      <td>0.000</td>\n",
       "      <td>0.008</td>\n",
       "      <td>0.000</td>\n",
       "      <td>0.008</td>\n",
       "    </tr>\n",
       "  </tbody>\n",
       "</table>\n",
       "</div>"
      ],
      "text/plain": [
       "               Acurácia (Treino)  Acurácia (Teste)  Precisão (Treino)  \\\n",
       "0                          0.998             0.887              0.998   \n",
       "1                          0.998             0.883              0.998   \n",
       "2                          0.998             0.902              0.998   \n",
       "3                          0.998             0.895              0.998   \n",
       "4                          0.998             0.890              0.998   \n",
       "Média                      0.998             0.891              0.998   \n",
       "Desvio Padrão              0.000             0.007              0.000   \n",
       "\n",
       "               Precisão (Teste)  Recall (Treino)  Recall (Teste)  \\\n",
       "0                         0.876            0.998           0.874   \n",
       "1                         0.871            0.998           0.869   \n",
       "2                         0.892            0.998           0.892   \n",
       "3                         0.884            0.998           0.882   \n",
       "4                         0.878            0.998           0.877   \n",
       "Média                     0.880            0.998           0.879   \n",
       "Desvio Padrão             0.007            0.000           0.008   \n",
       "\n",
       "               F1-Score (Treino)  F1-Score (Teste)  \n",
       "0                          0.998             0.875  \n",
       "1                          0.998             0.869  \n",
       "2                          0.998             0.892  \n",
       "3                          0.998             0.883  \n",
       "4                          0.998             0.877  \n",
       "Média                      0.998             0.879  \n",
       "Desvio Padrão              0.000             0.008  "
      ]
     },
     "metadata": {},
     "output_type": "display_data"
    }
   ],
   "source": [
    "# Criar um DataFrame com os resultados por fold\n",
    "results_per_fold = pd.DataFrame({\n",
    "    # 'Fold': range(1, 6),  # Assumindo 5 folds\n",
    "    'Acurácia (Treino)': cv_results['train_accuracy'],\n",
    "    'Acurácia (Teste)': cv_results['test_accuracy'],\n",
    "    'Precisão (Treino)': cv_results['train_precision_macro'],\n",
    "    'Precisão (Teste)': cv_results['test_precision_macro'],\n",
    "    'Recall (Treino)': cv_results['train_recall_macro'],\n",
    "    'Recall (Teste)': cv_results['test_recall_macro'],\n",
    "    'F1-Score (Treino)': cv_results['train_f1_macro'],\n",
    "    'F1-Score (Teste)': cv_results['test_f1_macro']\n",
    "})\n",
    "\n",
    "# Adiciona médias ao final\n",
    "results_per_fold.loc['Média'] = results_per_fold.mean()\n",
    "results_per_fold.loc['Desvio Padrão'] = results_per_fold.std()\n",
    "\n",
    "print(\"\\nMétricas por Fold, com Média e Desvio Padrão:\")\n",
    "display(results_per_fold.round(3))"
   ]
  },
  {
   "cell_type": "code",
   "execution_count": 82,
   "id": "30768ae1",
   "metadata": {},
   "outputs": [
    {
     "name": "stdout",
     "output_type": "stream",
     "text": [
      "\n",
      "Tabela de Métricas:\n"
     ]
    },
    {
     "data": {
      "text/html": [
       "<div>\n",
       "<style scoped>\n",
       "    .dataframe tbody tr th:only-of-type {\n",
       "        vertical-align: middle;\n",
       "    }\n",
       "\n",
       "    .dataframe tbody tr th {\n",
       "        vertical-align: top;\n",
       "    }\n",
       "\n",
       "    .dataframe thead th {\n",
       "        text-align: right;\n",
       "    }\n",
       "</style>\n",
       "<table border=\"1\" class=\"dataframe\">\n",
       "  <thead>\n",
       "    <tr style=\"text-align: right;\">\n",
       "      <th></th>\n",
       "      <th>Métrica</th>\n",
       "      <th>Média (Treino)</th>\n",
       "      <th>Std. Dev. (Treino)</th>\n",
       "      <th>Média (Teste)</th>\n",
       "      <th>Std. Dev. (Teste)</th>\n",
       "    </tr>\n",
       "  </thead>\n",
       "  <tbody>\n",
       "    <tr>\n",
       "      <th>0</th>\n",
       "      <td>Acurácia</td>\n",
       "      <td>0.998</td>\n",
       "      <td>0.0</td>\n",
       "      <td>0.892</td>\n",
       "      <td>0.006</td>\n",
       "    </tr>\n",
       "    <tr>\n",
       "      <th>1</th>\n",
       "      <td>Precisão</td>\n",
       "      <td>0.998</td>\n",
       "      <td>0.0</td>\n",
       "      <td>0.880</td>\n",
       "      <td>0.007</td>\n",
       "    </tr>\n",
       "    <tr>\n",
       "      <th>2</th>\n",
       "      <td>Recall</td>\n",
       "      <td>0.998</td>\n",
       "      <td>0.0</td>\n",
       "      <td>0.879</td>\n",
       "      <td>0.007</td>\n",
       "    </tr>\n",
       "    <tr>\n",
       "      <th>3</th>\n",
       "      <td>F1-score</td>\n",
       "      <td>0.998</td>\n",
       "      <td>0.0</td>\n",
       "      <td>0.879</td>\n",
       "      <td>0.007</td>\n",
       "    </tr>\n",
       "  </tbody>\n",
       "</table>\n",
       "</div>"
      ],
      "text/plain": [
       "    Métrica  Média (Treino)  Std. Dev. (Treino)  Média (Teste)  \\\n",
       "0  Acurácia           0.998                 0.0          0.892   \n",
       "1  Precisão           0.998                 0.0          0.880   \n",
       "2    Recall           0.998                 0.0          0.879   \n",
       "3  F1-score           0.998                 0.0          0.879   \n",
       "\n",
       "   Std. Dev. (Teste)  \n",
       "0              0.006  \n",
       "1              0.007  \n",
       "2              0.007  \n",
       "3              0.007  "
      ]
     },
     "metadata": {},
     "output_type": "display_data"
    }
   ],
   "source": [
    "metrics_df = pd.DataFrame(\n",
    "    {\n",
    "        \"Métrica\": [\n",
    "            \"Acurácia\",\n",
    "            \"Precisão\",\n",
    "            \"Recall\",\n",
    "            \"F1-score\",\n",
    "        ],\n",
    "        \"Média (Treino)\": [\n",
    "            np.mean(cv_results[\"train_accuracy\"]),\n",
    "            np.mean(cv_results[\"train_precision_macro\"]),\n",
    "            np.mean(cv_results[\"train_recall_macro\"]),\n",
    "            np.mean(cv_results[\"train_f1_macro\"]),\n",
    "        ],\n",
    "        \"Std. Dev. (Treino)\": [\n",
    "            np.std(cv_results[\"train_accuracy\"]),\n",
    "            np.std(cv_results[\"train_precision_macro\"]),\n",
    "            np.std(cv_results[\"train_recall_macro\"]),\n",
    "            np.std(cv_results[\"train_f1_macro\"]),\n",
    "        ],\n",
    "        \"Média (Teste)\": [\n",
    "            np.mean(cv_results[\"test_accuracy\"]),\n",
    "            np.mean(cv_results[\"test_precision_macro\"]),\n",
    "            np.mean(cv_results[\"test_recall_macro\"]),\n",
    "            np.mean(cv_results[\"test_f1_macro\"]),\n",
    "        ],\n",
    "        \"Std. Dev. (Teste)\": [\n",
    "            np.std(cv_results[\"test_accuracy\"]),\n",
    "            np.std(cv_results[\"test_precision_macro\"]),\n",
    "            np.std(cv_results[\"test_recall_macro\"]),\n",
    "            np.std(cv_results[\"test_f1_macro\"]),\n",
    "        ],\n",
    "    }\n",
    ")\n",
    "\n",
    "metrics_df = metrics_df.round(3)\n",
    "\n",
    "print(\"\\nTabela de Métricas:\")\n",
    "display(metrics_df)"
   ]
  },
  {
   "cell_type": "markdown",
   "id": "5f86d0d2",
   "metadata": {},
   "source": [
    "### Treinamento final"
   ]
  },
  {
   "cell_type": "code",
   "execution_count": null,
   "id": "5538f093",
   "metadata": {},
   "outputs": [],
   "source": [
    "model.fit(features, target)"
   ]
  },
  {
   "cell_type": "markdown",
   "id": "9dd6d7f9",
   "metadata": {},
   "source": [
    "## Predição\n"
   ]
  },
  {
   "cell_type": "code",
   "execution_count": null,
   "id": "23fa192b",
   "metadata": {},
   "outputs": [],
   "source": [
    "prediction = model.predict(test)\n",
    "predicted_classes = target_encoder.inverse_transform(\n",
    "    prediction.reshape(-1, 1)\n",
    ").flatten()\n",
    "\n",
    "predicted_df = pd.DataFrame({\"id\": test.id, \"NObeyesdad\": predicted_classes})\n",
    "\n",
    "predicted_df.to_csv(\"../submission/submission.csv\", index=False)"
   ]
  }
 ],
 "metadata": {
  "kernelspec": {
   "display_name": ".venv",
   "language": "python",
   "name": "python3"
  },
  "language_info": {
   "codemirror_mode": {
    "name": "ipython",
    "version": 3
   },
   "file_extension": ".py",
   "mimetype": "text/x-python",
   "name": "python",
   "nbconvert_exporter": "python",
   "pygments_lexer": "ipython3",
   "version": "3.10.12"
  }
 },
 "nbformat": 4,
 "nbformat_minor": 5
}
