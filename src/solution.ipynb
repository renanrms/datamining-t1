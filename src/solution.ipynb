{
 "cells": [
  {
   "cell_type": "markdown",
   "id": "65b1951a",
   "metadata": {},
   "source": [
    "# Multi-Class Prediction of Obesity Risk\n"
   ]
  },
  {
   "cell_type": "markdown",
   "id": "f8b0169e",
   "metadata": {},
   "source": [
    "## Preparação do ambiente e dos dados\n"
   ]
  },
  {
   "cell_type": "markdown",
   "id": "e5127034",
   "metadata": {},
   "source": [
    "### Imports e Configurações Gerais\n"
   ]
  },
  {
   "cell_type": "code",
   "execution_count": 188,
   "id": "171b4a4a",
   "metadata": {},
   "outputs": [],
   "source": [
    "import pandas as pd\n",
    "import seaborn as sns\n",
    "import matplotlib.pyplot as plt\n",
    "# import numpy as np\n",
    "# import missingno as msno\n",
    "# import json\n",
    "# import math\n",
    "\n",
    "from sklearn.preprocessing import OrdinalEncoder, OneHotEncoder\n",
    "from sklearn.compose import ColumnTransformer\n",
    "from sklearn.model_selection import train_test_split\n",
    "from sklearn.ensemble import RandomForestClassifier\n",
    "from sklearn.metrics import accuracy_score, classification_report\n",
    "from sklearn.pipeline import Pipeline\n",
    "\n",
    "\n",
    "from sklearn.preprocessing import LabelEncoder\n",
    "\n",
    "from sklearn.ensemble import RandomForestClassifier\n",
    "\n",
    "%matplotlib inline\n",
    "\n",
    "# seaborn.set_theme()"
   ]
  },
  {
   "cell_type": "markdown",
   "id": "72c3d7d8",
   "metadata": {},
   "source": [
    "### Funções\n"
   ]
  },
  {
   "cell_type": "markdown",
   "id": "678440c6",
   "metadata": {},
   "source": [
    "#### invalid_values_count ( )\n"
   ]
  },
  {
   "cell_type": "code",
   "execution_count": 189,
   "id": "2aee4652",
   "metadata": {},
   "outputs": [],
   "source": [
    "def show_stats(dataframe):\n",
    "    \"\"\"\n",
    "    Retorna dataframe contendo a contagem de valores inválidos (None, NaN, NaT) em cada coluna do dataframe passado como parâmetro.\n",
    "    \"\"\"\n",
    "\n",
    "    data_dict = {\n",
    "        c: [dataframe.columns[c], (dataframe.shape[0] - dataframe[dataframe.columns[c]].count()), len(dataframe[dataframe.columns[c]].unique()), dataframe[dataframe.columns[c]].dtype]\n",
    "        for c in range(len(dataframe.columns))\n",
    "    }\n",
    "\n",
    "    return pd.DataFrame(data=data_dict, index=['Nome', 'Val. inválidos', 'Val. únicos', 'Tipo']).T"
   ]
  },
  {
   "cell_type": "markdown",
   "id": "0191d89a",
   "metadata": {},
   "source": [
    "### Carregamento dos Dados Rotulados (Completos)\n"
   ]
  },
  {
   "cell_type": "code",
   "execution_count": 190,
   "id": "005db165",
   "metadata": {},
   "outputs": [],
   "source": [
    "train = pd.read_csv('../data/train.csv')\n",
    "test = pd.read_csv('../data/test.csv')"
   ]
  },
  {
   "cell_type": "markdown",
   "id": "bc84aa37",
   "metadata": {},
   "source": [
    "## Análise Exploratória\n"
   ]
  },
  {
   "cell_type": "markdown",
   "id": "6409c674",
   "metadata": {},
   "source": [
    "### Visão Geral\n"
   ]
  },
  {
   "cell_type": "markdown",
   "id": "ab7e148a",
   "metadata": {},
   "source": [
    "Os dados estão todos completos, sem valores faltantes ou evidentemente inválidos (ex: NaN) em nenhuma coluna.\n",
    "\n",
    "Há [Informações sobre o significado de cada coluna](https://www.kaggle.com/competitions/playground-series-s4e2/discussion/472516) em comentário no Kaggle.\n"
   ]
  },
  {
   "cell_type": "code",
   "execution_count": 191,
   "id": "e9115e3e",
   "metadata": {},
   "outputs": [
    {
     "data": {
      "text/html": [
       "<div>\n",
       "<style scoped>\n",
       "    .dataframe tbody tr th:only-of-type {\n",
       "        vertical-align: middle;\n",
       "    }\n",
       "\n",
       "    .dataframe tbody tr th {\n",
       "        vertical-align: top;\n",
       "    }\n",
       "\n",
       "    .dataframe thead th {\n",
       "        text-align: right;\n",
       "    }\n",
       "</style>\n",
       "<table border=\"1\" class=\"dataframe\">\n",
       "  <thead>\n",
       "    <tr style=\"text-align: right;\">\n",
       "      <th></th>\n",
       "      <th>id</th>\n",
       "      <th>Gender</th>\n",
       "      <th>Age</th>\n",
       "      <th>Height</th>\n",
       "      <th>Weight</th>\n",
       "      <th>family_history_with_overweight</th>\n",
       "      <th>FAVC</th>\n",
       "      <th>FCVC</th>\n",
       "      <th>NCP</th>\n",
       "      <th>CAEC</th>\n",
       "      <th>SMOKE</th>\n",
       "      <th>CH2O</th>\n",
       "      <th>SCC</th>\n",
       "      <th>FAF</th>\n",
       "      <th>TUE</th>\n",
       "      <th>CALC</th>\n",
       "      <th>MTRANS</th>\n",
       "      <th>NObeyesdad</th>\n",
       "    </tr>\n",
       "  </thead>\n",
       "  <tbody>\n",
       "    <tr>\n",
       "      <th>0</th>\n",
       "      <td>0</td>\n",
       "      <td>Male</td>\n",
       "      <td>24.443011</td>\n",
       "      <td>1.699998</td>\n",
       "      <td>81.669950</td>\n",
       "      <td>yes</td>\n",
       "      <td>yes</td>\n",
       "      <td>2.000000</td>\n",
       "      <td>2.983297</td>\n",
       "      <td>Sometimes</td>\n",
       "      <td>no</td>\n",
       "      <td>2.763573</td>\n",
       "      <td>no</td>\n",
       "      <td>0.000000</td>\n",
       "      <td>0.976473</td>\n",
       "      <td>Sometimes</td>\n",
       "      <td>Public_Transportation</td>\n",
       "      <td>Overweight_Level_II</td>\n",
       "    </tr>\n",
       "    <tr>\n",
       "      <th>1</th>\n",
       "      <td>1</td>\n",
       "      <td>Female</td>\n",
       "      <td>18.000000</td>\n",
       "      <td>1.560000</td>\n",
       "      <td>57.000000</td>\n",
       "      <td>yes</td>\n",
       "      <td>yes</td>\n",
       "      <td>2.000000</td>\n",
       "      <td>3.000000</td>\n",
       "      <td>Frequently</td>\n",
       "      <td>no</td>\n",
       "      <td>2.000000</td>\n",
       "      <td>no</td>\n",
       "      <td>1.000000</td>\n",
       "      <td>1.000000</td>\n",
       "      <td>no</td>\n",
       "      <td>Automobile</td>\n",
       "      <td>Normal_Weight</td>\n",
       "    </tr>\n",
       "    <tr>\n",
       "      <th>2</th>\n",
       "      <td>2</td>\n",
       "      <td>Female</td>\n",
       "      <td>18.000000</td>\n",
       "      <td>1.711460</td>\n",
       "      <td>50.165754</td>\n",
       "      <td>yes</td>\n",
       "      <td>yes</td>\n",
       "      <td>1.880534</td>\n",
       "      <td>1.411685</td>\n",
       "      <td>Sometimes</td>\n",
       "      <td>no</td>\n",
       "      <td>1.910378</td>\n",
       "      <td>no</td>\n",
       "      <td>0.866045</td>\n",
       "      <td>1.673584</td>\n",
       "      <td>no</td>\n",
       "      <td>Public_Transportation</td>\n",
       "      <td>Insufficient_Weight</td>\n",
       "    </tr>\n",
       "    <tr>\n",
       "      <th>3</th>\n",
       "      <td>3</td>\n",
       "      <td>Female</td>\n",
       "      <td>20.952737</td>\n",
       "      <td>1.710730</td>\n",
       "      <td>131.274851</td>\n",
       "      <td>yes</td>\n",
       "      <td>yes</td>\n",
       "      <td>3.000000</td>\n",
       "      <td>3.000000</td>\n",
       "      <td>Sometimes</td>\n",
       "      <td>no</td>\n",
       "      <td>1.674061</td>\n",
       "      <td>no</td>\n",
       "      <td>1.467863</td>\n",
       "      <td>0.780199</td>\n",
       "      <td>Sometimes</td>\n",
       "      <td>Public_Transportation</td>\n",
       "      <td>Obesity_Type_III</td>\n",
       "    </tr>\n",
       "    <tr>\n",
       "      <th>4</th>\n",
       "      <td>4</td>\n",
       "      <td>Male</td>\n",
       "      <td>31.641081</td>\n",
       "      <td>1.914186</td>\n",
       "      <td>93.798055</td>\n",
       "      <td>yes</td>\n",
       "      <td>yes</td>\n",
       "      <td>2.679664</td>\n",
       "      <td>1.971472</td>\n",
       "      <td>Sometimes</td>\n",
       "      <td>no</td>\n",
       "      <td>1.979848</td>\n",
       "      <td>no</td>\n",
       "      <td>1.967973</td>\n",
       "      <td>0.931721</td>\n",
       "      <td>Sometimes</td>\n",
       "      <td>Public_Transportation</td>\n",
       "      <td>Overweight_Level_II</td>\n",
       "    </tr>\n",
       "  </tbody>\n",
       "</table>\n",
       "</div>"
      ],
      "text/plain": [
       "   id  Gender        Age    Height      Weight family_history_with_overweight  \\\n",
       "0   0    Male  24.443011  1.699998   81.669950                            yes   \n",
       "1   1  Female  18.000000  1.560000   57.000000                            yes   \n",
       "2   2  Female  18.000000  1.711460   50.165754                            yes   \n",
       "3   3  Female  20.952737  1.710730  131.274851                            yes   \n",
       "4   4    Male  31.641081  1.914186   93.798055                            yes   \n",
       "\n",
       "  FAVC      FCVC       NCP        CAEC SMOKE      CH2O SCC       FAF  \\\n",
       "0  yes  2.000000  2.983297   Sometimes    no  2.763573  no  0.000000   \n",
       "1  yes  2.000000  3.000000  Frequently    no  2.000000  no  1.000000   \n",
       "2  yes  1.880534  1.411685   Sometimes    no  1.910378  no  0.866045   \n",
       "3  yes  3.000000  3.000000   Sometimes    no  1.674061  no  1.467863   \n",
       "4  yes  2.679664  1.971472   Sometimes    no  1.979848  no  1.967973   \n",
       "\n",
       "        TUE       CALC                 MTRANS           NObeyesdad  \n",
       "0  0.976473  Sometimes  Public_Transportation  Overweight_Level_II  \n",
       "1  1.000000         no             Automobile        Normal_Weight  \n",
       "2  1.673584         no  Public_Transportation  Insufficient_Weight  \n",
       "3  0.780199  Sometimes  Public_Transportation     Obesity_Type_III  \n",
       "4  0.931721  Sometimes  Public_Transportation  Overweight_Level_II  "
      ]
     },
     "execution_count": 191,
     "metadata": {},
     "output_type": "execute_result"
    }
   ],
   "source": [
    "train.head()"
   ]
  },
  {
   "cell_type": "code",
   "execution_count": 192,
   "id": "be24e9c8",
   "metadata": {},
   "outputs": [
    {
     "data": {
      "text/html": [
       "<div>\n",
       "<style scoped>\n",
       "    .dataframe tbody tr th:only-of-type {\n",
       "        vertical-align: middle;\n",
       "    }\n",
       "\n",
       "    .dataframe tbody tr th {\n",
       "        vertical-align: top;\n",
       "    }\n",
       "\n",
       "    .dataframe thead th {\n",
       "        text-align: right;\n",
       "    }\n",
       "</style>\n",
       "<table border=\"1\" class=\"dataframe\">\n",
       "  <thead>\n",
       "    <tr style=\"text-align: right;\">\n",
       "      <th></th>\n",
       "      <th>Nome</th>\n",
       "      <th>Val. inválidos</th>\n",
       "      <th>Val. únicos</th>\n",
       "      <th>Tipo</th>\n",
       "    </tr>\n",
       "  </thead>\n",
       "  <tbody>\n",
       "    <tr>\n",
       "      <th>0</th>\n",
       "      <td>id</td>\n",
       "      <td>0</td>\n",
       "      <td>20758</td>\n",
       "      <td>int64</td>\n",
       "    </tr>\n",
       "    <tr>\n",
       "      <th>1</th>\n",
       "      <td>Gender</td>\n",
       "      <td>0</td>\n",
       "      <td>2</td>\n",
       "      <td>object</td>\n",
       "    </tr>\n",
       "    <tr>\n",
       "      <th>2</th>\n",
       "      <td>Age</td>\n",
       "      <td>0</td>\n",
       "      <td>1703</td>\n",
       "      <td>float64</td>\n",
       "    </tr>\n",
       "    <tr>\n",
       "      <th>3</th>\n",
       "      <td>Height</td>\n",
       "      <td>0</td>\n",
       "      <td>1833</td>\n",
       "      <td>float64</td>\n",
       "    </tr>\n",
       "    <tr>\n",
       "      <th>4</th>\n",
       "      <td>Weight</td>\n",
       "      <td>0</td>\n",
       "      <td>1979</td>\n",
       "      <td>float64</td>\n",
       "    </tr>\n",
       "    <tr>\n",
       "      <th>5</th>\n",
       "      <td>family_history_with_overweight</td>\n",
       "      <td>0</td>\n",
       "      <td>2</td>\n",
       "      <td>object</td>\n",
       "    </tr>\n",
       "    <tr>\n",
       "      <th>6</th>\n",
       "      <td>FAVC</td>\n",
       "      <td>0</td>\n",
       "      <td>2</td>\n",
       "      <td>object</td>\n",
       "    </tr>\n",
       "    <tr>\n",
       "      <th>7</th>\n",
       "      <td>FCVC</td>\n",
       "      <td>0</td>\n",
       "      <td>934</td>\n",
       "      <td>float64</td>\n",
       "    </tr>\n",
       "    <tr>\n",
       "      <th>8</th>\n",
       "      <td>NCP</td>\n",
       "      <td>0</td>\n",
       "      <td>689</td>\n",
       "      <td>float64</td>\n",
       "    </tr>\n",
       "    <tr>\n",
       "      <th>9</th>\n",
       "      <td>CAEC</td>\n",
       "      <td>0</td>\n",
       "      <td>4</td>\n",
       "      <td>object</td>\n",
       "    </tr>\n",
       "    <tr>\n",
       "      <th>10</th>\n",
       "      <td>SMOKE</td>\n",
       "      <td>0</td>\n",
       "      <td>2</td>\n",
       "      <td>object</td>\n",
       "    </tr>\n",
       "    <tr>\n",
       "      <th>11</th>\n",
       "      <td>CH2O</td>\n",
       "      <td>0</td>\n",
       "      <td>1506</td>\n",
       "      <td>float64</td>\n",
       "    </tr>\n",
       "    <tr>\n",
       "      <th>12</th>\n",
       "      <td>SCC</td>\n",
       "      <td>0</td>\n",
       "      <td>2</td>\n",
       "      <td>object</td>\n",
       "    </tr>\n",
       "    <tr>\n",
       "      <th>13</th>\n",
       "      <td>FAF</td>\n",
       "      <td>0</td>\n",
       "      <td>1360</td>\n",
       "      <td>float64</td>\n",
       "    </tr>\n",
       "    <tr>\n",
       "      <th>14</th>\n",
       "      <td>TUE</td>\n",
       "      <td>0</td>\n",
       "      <td>1297</td>\n",
       "      <td>float64</td>\n",
       "    </tr>\n",
       "    <tr>\n",
       "      <th>15</th>\n",
       "      <td>CALC</td>\n",
       "      <td>0</td>\n",
       "      <td>3</td>\n",
       "      <td>object</td>\n",
       "    </tr>\n",
       "    <tr>\n",
       "      <th>16</th>\n",
       "      <td>MTRANS</td>\n",
       "      <td>0</td>\n",
       "      <td>5</td>\n",
       "      <td>object</td>\n",
       "    </tr>\n",
       "    <tr>\n",
       "      <th>17</th>\n",
       "      <td>NObeyesdad</td>\n",
       "      <td>0</td>\n",
       "      <td>7</td>\n",
       "      <td>object</td>\n",
       "    </tr>\n",
       "  </tbody>\n",
       "</table>\n",
       "</div>"
      ],
      "text/plain": [
       "                              Nome Val. inválidos Val. únicos     Tipo\n",
       "0                               id              0       20758    int64\n",
       "1                           Gender              0           2   object\n",
       "2                              Age              0        1703  float64\n",
       "3                           Height              0        1833  float64\n",
       "4                           Weight              0        1979  float64\n",
       "5   family_history_with_overweight              0           2   object\n",
       "6                             FAVC              0           2   object\n",
       "7                             FCVC              0         934  float64\n",
       "8                              NCP              0         689  float64\n",
       "9                             CAEC              0           4   object\n",
       "10                           SMOKE              0           2   object\n",
       "11                            CH2O              0        1506  float64\n",
       "12                             SCC              0           2   object\n",
       "13                             FAF              0        1360  float64\n",
       "14                             TUE              0        1297  float64\n",
       "15                            CALC              0           3   object\n",
       "16                          MTRANS              0           5   object\n",
       "17                      NObeyesdad              0           7   object"
      ]
     },
     "execution_count": 192,
     "metadata": {},
     "output_type": "execute_result"
    }
   ],
   "source": [
    "show_stats(train)"
   ]
  },
  {
   "cell_type": "code",
   "execution_count": 193,
   "id": "9d9b9d28",
   "metadata": {},
   "outputs": [],
   "source": [
    "binary_columns = ['Gender', 'family_history_with_overweight', 'FAVC', 'SMOKE', 'SCC']\n",
    "categorical_columns = ['CAEC', 'CALC', 'MTRANS', 'NObeyesdad']\n",
    "numerical_columns = ['Age', 'Height', 'Weight', 'FCVC', 'NCP', 'CH2O', 'FAF', 'TUE']"
   ]
  },
  {
   "cell_type": "markdown",
   "id": "5c051a0c",
   "metadata": {},
   "source": [
    "### Atributos categóricos\n"
   ]
  },
  {
   "cell_type": "markdown",
   "id": "301354d8",
   "metadata": {},
   "source": [
    "#### Gender"
   ]
  },
  {
   "cell_type": "markdown",
   "id": "5c9f0516",
   "metadata": {},
   "source": [
    "Pela característica do atributo (não ter uma ordem), certamente vamos utilizar o One Hot Encoding. Que neste caso será como um atributo binário porque por conta da opção drop=\"First\" que será usada."
   ]
  },
  {
   "cell_type": "code",
   "execution_count": 194,
   "id": "22302e39",
   "metadata": {},
   "outputs": [
    {
     "name": "stdout",
     "output_type": "stream",
     "text": [
      "['Male' 'Female']\n",
      "['Male' 'Female']\n"
     ]
    }
   ],
   "source": [
    "print(train.Gender.unique())\n",
    "print(test.Gender.unique())"
   ]
  },
  {
   "cell_type": "code",
   "execution_count": 195,
   "id": "c3ab47bb",
   "metadata": {},
   "outputs": [],
   "source": [
    "gender_options = ['Male', 'Female']"
   ]
  },
  {
   "cell_type": "markdown",
   "id": "526524e9",
   "metadata": {},
   "source": [
    "#### CALC\n"
   ]
  },
  {
   "cell_type": "markdown",
   "id": "5a162d46",
   "metadata": {},
   "source": [
    "Para este atributo há uma ordem muito clara entre as classes, de maneira que podemos fazer ordinal encoding, mas também podemos fazer one hot encoding, que possui a vantagem de não atribuir uma escala às classes. Mas ambos os métodos podem ser testados.\n"
   ]
  },
  {
   "cell_type": "code",
   "execution_count": 196,
   "id": "ff5e6215",
   "metadata": {},
   "outputs": [
    {
     "name": "stdout",
     "output_type": "stream",
     "text": [
      "['Sometimes' 'no' 'Frequently']\n",
      "['Sometimes' 'no' 'Frequently' 'Always']\n"
     ]
    }
   ],
   "source": [
    "print(train.CALC.unique())\n",
    "print(test.CALC.unique())"
   ]
  },
  {
   "cell_type": "code",
   "execution_count": 197,
   "id": "43e2c645",
   "metadata": {},
   "outputs": [],
   "source": [
    "CALC_options = ['no', 'Sometimes', 'Frequently', 'Always']"
   ]
  },
  {
   "cell_type": "markdown",
   "id": "06d6ef4f",
   "metadata": {},
   "source": [
    "#### MTRANS\n"
   ]
  },
  {
   "cell_type": "markdown",
   "id": "3a2b8986",
   "metadata": {},
   "source": [
    "Neste atributo podemos proceder de duas maneiras principais:\n",
    "\n",
    "- Utilizar One Hot Encoding. Escolha que considero mais certeira por não atribuir ordem ou escala.\n",
    "- Definir uma ordem e utilizar ordinal encoding. Neste caso podemos olhar o comportamento do atributo em relação ao target para validar a ordem escolhida para cada classe.\n"
   ]
  },
  {
   "cell_type": "code",
   "execution_count": 198,
   "id": "cc55b664",
   "metadata": {},
   "outputs": [
    {
     "name": "stdout",
     "output_type": "stream",
     "text": [
      "['Public_Transportation' 'Automobile' 'Walking' 'Motorbike' 'Bike']\n",
      "['Public_Transportation' 'Automobile' 'Walking' 'Bike' 'Motorbike']\n"
     ]
    }
   ],
   "source": [
    "print(train.MTRANS.unique())\n",
    "print(test.MTRANS.unique())"
   ]
  },
  {
   "cell_type": "code",
   "execution_count": 199,
   "id": "9a4f2e5c",
   "metadata": {},
   "outputs": [],
   "source": [
    "MTRANS_options = ['Walking', 'Public_Transportation', 'Bike', 'Motorbike', 'Automobile']"
   ]
  },
  {
   "cell_type": "markdown",
   "id": "5df04819",
   "metadata": {},
   "source": [
    "#### NObeyesdad (Target)\n"
   ]
  },
  {
   "cell_type": "markdown",
   "id": "47181362",
   "metadata": {},
   "source": [
    "Para este atributo será feito ordinal encoding, porque há uma ordem clara entre as classes e este é o target, portanto está é a técnica mais usual para que a saída do algoritmo possa ser numérica.\n"
   ]
  },
  {
   "cell_type": "code",
   "execution_count": 200,
   "id": "49e491b8",
   "metadata": {},
   "outputs": [
    {
     "name": "stdout",
     "output_type": "stream",
     "text": [
      "['Overweight_Level_II' 'Normal_Weight' 'Insufficient_Weight'\n",
      " 'Obesity_Type_III' 'Obesity_Type_II' 'Overweight_Level_I'\n",
      " 'Obesity_Type_I']\n"
     ]
    }
   ],
   "source": [
    "print(train.NObeyesdad.unique())"
   ]
  },
  {
   "cell_type": "code",
   "execution_count": 201,
   "id": "8810d473",
   "metadata": {},
   "outputs": [],
   "source": [
    "target_order = ['Insufficient_Weight', 'Normal_Weight', 'Overweight_Level_I', 'Overweight_Level_II', 'Obesity_Type_I', 'Obesity_Type_II', 'Obesity_Type_III']\n"
   ]
  },
  {
   "cell_type": "markdown",
   "id": "6f9033f9",
   "metadata": {},
   "source": [
    "### Matriz de dispersão"
   ]
  },
  {
   "cell_type": "code",
   "execution_count": 202,
   "id": "b35120f5",
   "metadata": {},
   "outputs": [],
   "source": [
    "sns.set_theme(style='ticks')\n",
    "# plot = sns.pairplot(train.sample(100), plot_kws={'alpha':0.1})\n",
    "# plot = sns.pairplot(train, plot_kw  s={'alpha':0.05})"
   ]
  },
  {
   "cell_type": "markdown",
   "id": "0ad2d2bc",
   "metadata": {},
   "source": [
    "## Pré-processamento\n"
   ]
  },
  {
   "cell_type": "code",
   "execution_count": null,
   "id": "00bac945",
   "metadata": {},
   "outputs": [
    {
     "name": "stdout",
     "output_type": "stream",
     "text": [
      "\n",
      "Acurácia do modelo: 0.89\n",
      "\n",
      "Relatório de Classificação:\n",
      "                     precision    recall  f1-score   support\n",
      "\n",
      "Insufficient_Weight       0.93      0.92      0.92       524\n",
      "      Normal_Weight       0.83      0.87      0.85       626\n",
      " Overweight_Level_I       0.76      0.72      0.74       484\n",
      "Overweight_Level_II       0.76      0.78      0.77       514\n",
      "     Obesity_Type_I       0.88      0.87      0.88       543\n",
      "    Obesity_Type_II       0.97      0.98      0.97       657\n",
      "   Obesity_Type_III       1.00      1.00      1.00       804\n",
      "\n",
      "           accuracy                           0.89      4152\n",
      "          macro avg       0.88      0.87      0.88      4152\n",
      "       weighted avg       0.89      0.89      0.89      4152\n",
      "\n"
     ]
    }
   ],
   "source": [
    "# Criar o encoder com a ordem desejada\n",
    "target_encoder = OrdinalEncoder(categories=[target_order], dtype=int)\n",
    "\n",
    "train[\"NObeyesdad_encoded\"] = target_encoder.fit_transform(\n",
    "    train[[\"NObeyesdad\"]]\n",
    ").flatten()\n",
    "\n",
    "# 3. Separar features (X) e target (y)\n",
    "features = train.drop([\"NObeyesdad\", \"NObeyesdad_encoded\"], axis=1)\n",
    "target = train[\"NObeyesdad_encoded\"]"
   ]
  },
  {
   "cell_type": "code",
   "execution_count": null,
   "id": "9e052b7d",
   "metadata": {},
   "outputs": [],
   "source": []
  },
  {
   "cell_type": "markdown",
   "id": "ba988b2e",
   "metadata": {},
   "source": [
    "## Treinamento\n"
   ]
  },
  {
   "cell_type": "code",
   "execution_count": null,
   "id": "6f414712",
   "metadata": {},
   "outputs": [],
   "source": [
    "X_train, X_test, y_train, y_test = train_test_split(\n",
    "    features, target, test_size=0.2, random_state=42\n",
    ")\n",
    "\n",
    "preprocessor = ColumnTransformer(\n",
    "    transformers=[\n",
    "        ('numerical', 'passthrough', X_train.select_dtypes(include=['int64', 'float64']).columns.tolist()),\n",
    "        ('Gender', OneHotEncoder(drop='first', sparse_output=False), ['Gender']),\n",
    "        ('CALC', OneHotEncoder(categories=[CALC_options], drop='first', sparse_output=False), ['CALC']),\n",
    "        # ('CALC', OrdinalEncoder(categories=[CALC_options], dtype=int), ['CALC']),\n",
    "        ('MTRANS', OneHotEncoder(drop='first', sparse_output=False), ['MTRANS'])\n",
    "    ]\n",
    ")\n",
    "\n",
    "model = Pipeline(steps=[\n",
    "    ('preprocessor', preprocessor),\n",
    "    ('model', RandomForestClassifier())\n",
    "])\n",
    "\n",
    "model.fit(X_train, y_train)\n",
    "\n",
    "\n",
    "y_pred = model.predict(X_test)\n",
    "\n",
    "accuracy = accuracy_score(y_test, y_pred)\n",
    "print(f\"\\nAcurácia do modelo: {accuracy:.2f}\")\n",
    "\n",
    "print(\"\\nRelatório de Classificação:\")\n",
    "print(\n",
    "    classification_report(\n",
    "        y_test,\n",
    "        y_pred,\n",
    "        target_names=target_order,\n",
    "    )\n",
    ")"
   ]
  },
  {
   "cell_type": "markdown",
   "id": "9dd6d7f9",
   "metadata": {},
   "source": [
    "## Predição\n"
   ]
  },
  {
   "cell_type": "code",
   "execution_count": null,
   "id": "23fa192b",
   "metadata": {},
   "outputs": [],
   "source": [
    "prediction = model.predict(test)\n",
    "predicted_classes = target_encoder.inverse_transform(prediction.reshape(-1, 1)).flatten()\n",
    "\n",
    "predicted_df = pd.DataFrame({\n",
    "    'id': test.id,\n",
    "    'NObeyesdad': predicted_classes\n",
    "})\n",
    "\n",
    "predicted_df.to_csv('../submission/submission.csv', index=False)"
   ]
  }
 ],
 "metadata": {
  "kernelspec": {
   "display_name": ".venv",
   "language": "python",
   "name": "python3"
  },
  "language_info": {
   "codemirror_mode": {
    "name": "ipython",
    "version": 3
   },
   "file_extension": ".py",
   "mimetype": "text/x-python",
   "name": "python",
   "nbconvert_exporter": "python",
   "pygments_lexer": "ipython3",
   "version": "3.10.12"
  }
 },
 "nbformat": 4,
 "nbformat_minor": 5
}
